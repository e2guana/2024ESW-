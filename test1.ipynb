{
 "cells": [
  {
   "cell_type": "markdown",
   "metadata": {},
   "source": [
    "필요한 라이브러리 및 초기화"
   ]
  },
  {
   "cell_type": "code",
   "execution_count": 69,
   "metadata": {},
   "outputs": [],
   "source": [
    "import board\n",
    "import digitalio\n",
    "import adafruit_rgb_display.st7789 as st7789  # ST7789 드라이버\n",
    "from PIL import Image, ImageOps, ImageDraw, ImageFont\n",
    "from gpiozero import Button  # 버튼 입력 처리를 위한 GPIO Zero\n",
    "\n",
    "# SPI 핀 설정\n",
    "cs_pin = digitalio.DigitalInOut(board.CE0)  # Chip Select\n",
    "dc_pin = digitalio.DigitalInOut(board.D25)  # Data/Command\n",
    "reset_pin = digitalio.DigitalInOut(board.D24)  # Reset\n",
    "spi = board.SPI()  # Hardware SPI\n",
    "\n",
    "# 디스플레이 초기화\n",
    "disp = st7789.ST7789(\n",
    "    spi,\n",
    "    cs=cs_pin,\n",
    "    dc=dc_pin,\n",
    "    rst=reset_pin,\n",
    "    width=240,\n",
    "    height=240,\n",
    "    baudrate=24000000,\n",
    "    x_offset=0,\n",
    "    y_offset=80,\n",
    "    rotation=180  # 디스플레이 방향 설정\n",
    ")\n",
    "\n",
    "# 디스플레이 크기 설정\n",
    "width = disp.width\n",
    "height = disp.height\n"
   ]
  },
  {
   "cell_type": "markdown",
   "metadata": {},
   "source": [
    "배경 생성 및 이미지 출력"
   ]
  },
  {
   "cell_type": "code",
   "execution_count": 70,
   "metadata": {},
   "outputs": [
    {
     "name": "stdout",
     "output_type": "stream",
     "text": [
      "시작 화면 출력 완료.\n"
     ]
    }
   ],
   "source": [
    "# 이미지 경로 설정\n",
    "start_screen_path = \"assets/AstroEvasion.png\"  # 시작 화면 이미지 경로\n",
    "background_path = \"assets/Background.png\"  # 게임 배경 화면 이미지 경로\n",
    "\n",
    "# 시작 화면 로드 및 크기 조정\n",
    "start_image = Image.open(start_screen_path).convert(\"RGB\")\n",
    "# start_image = ImageOps.flip(start_image)  # 필요 시 상하 반전\n",
    "start_image = start_image.resize((width, height))\n",
    "\n",
    "# 게임 화면 로드 및 크기 조정\n",
    "background_image = Image.open(background_path).convert(\"RGB\")\n",
    "background_image = background_image.resize((width, height))\n",
    "\n",
    "# 디스플레이에 이미지 출력 함수\n",
    "def display_image(image):\n",
    "    disp.image(image)\n",
    "\n",
    "# 시작 화면 출력\n",
    "display_image(start_image)\n",
    "print(\"시작 화면 출력 완료.\")\n"
   ]
  },
  {
   "cell_type": "markdown",
   "metadata": {},
   "source": [
    "버튼 설정 및 상태 관리"
   ]
  },
  {
   "cell_type": "code",
   "execution_count": 71,
   "metadata": {},
   "outputs": [
    {
     "ename": "GPIOPinInUse",
     "evalue": "pin GPIO5 is already in use by <gpiozero.Button object on pin GPIO5, pull_up=True, is_active=False>",
     "output_type": "error",
     "traceback": [
      "\u001b[0;31m---------------------------------------------------------------------------\u001b[0m",
      "\u001b[0;31mGPIOPinInUse\u001b[0m                              Traceback (most recent call last)",
      "Cell \u001b[0;32mIn[71], line 2\u001b[0m\n\u001b[1;32m      1\u001b[0m \u001b[38;5;66;03m# 버튼 설정 (GPIO 핀 번호에 맞게 수정)\u001b[39;00m\n\u001b[0;32m----> 2\u001b[0m button1 \u001b[38;5;241m=\u001b[39m \u001b[43mButton\u001b[49m\u001b[43m(\u001b[49m\u001b[38;5;241;43m5\u001b[39;49m\u001b[43m)\u001b[49m  \u001b[38;5;66;03m# GPIO 2번 핀\u001b[39;00m\n\u001b[1;32m      3\u001b[0m button2 \u001b[38;5;241m=\u001b[39m Button(\u001b[38;5;241m6\u001b[39m)  \u001b[38;5;66;03m# GPIO 3번 핀\u001b[39;00m\n\u001b[1;32m      5\u001b[0m \u001b[38;5;66;03m# 상태 변수\u001b[39;00m\n",
      "File \u001b[0;32m/usr/lib/python3/dist-packages/gpiozero/devices.py:108\u001b[0m, in \u001b[0;36mGPIOMeta.__call__\u001b[0;34m(cls, *args, **kwargs)\u001b[0m\n\u001b[1;32m    105\u001b[0m         \u001b[38;5;28mcls\u001b[39m\u001b[38;5;241m.\u001b[39m_instances[key] \u001b[38;5;241m=\u001b[39m weakref\u001b[38;5;241m.\u001b[39mref(\u001b[38;5;28mself\u001b[39m)\n\u001b[1;32m    106\u001b[0m \u001b[38;5;28;01melse\u001b[39;00m:\n\u001b[1;32m    107\u001b[0m     \u001b[38;5;66;03m# Construct the instance as normal\u001b[39;00m\n\u001b[0;32m--> 108\u001b[0m     \u001b[38;5;28mself\u001b[39m \u001b[38;5;241m=\u001b[39m \u001b[38;5;28;43msuper\u001b[39;49m\u001b[43m(\u001b[49m\u001b[43m)\u001b[49m\u001b[38;5;241;43m.\u001b[39;49m\u001b[38;5;21;43m__call__\u001b[39;49m\u001b[43m(\u001b[49m\u001b[38;5;241;43m*\u001b[39;49m\u001b[43margs\u001b[49m\u001b[43m,\u001b[49m\u001b[43m \u001b[49m\u001b[38;5;241;43m*\u001b[39;49m\u001b[38;5;241;43m*\u001b[39;49m\u001b[43mkwargs\u001b[49m\u001b[43m)\u001b[49m\n\u001b[1;32m    109\u001b[0m \u001b[38;5;66;03m# At this point __new__ and __init__ have all been run. We now fix the\u001b[39;00m\n\u001b[1;32m    110\u001b[0m \u001b[38;5;66;03m# set of attributes on the class by dir'ing the instance and creating a\u001b[39;00m\n\u001b[1;32m    111\u001b[0m \u001b[38;5;66;03m# frozenset of the result called __attrs__ (which is queried by\u001b[39;00m\n\u001b[1;32m    112\u001b[0m \u001b[38;5;66;03m# GPIOBase.__setattr__). An exception is made for SharedMixin devices\u001b[39;00m\n\u001b[1;32m    113\u001b[0m \u001b[38;5;66;03m# which can be constructed multiple times, returning the same instance\u001b[39;00m\n\u001b[1;32m    114\u001b[0m \u001b[38;5;28;01mif\u001b[39;00m \u001b[38;5;129;01mnot\u001b[39;00m \u001b[38;5;28missubclass\u001b[39m(\u001b[38;5;28mcls\u001b[39m, SharedMixin) \u001b[38;5;129;01mor\u001b[39;00m \u001b[38;5;28mself\u001b[39m\u001b[38;5;241m.\u001b[39m_refs \u001b[38;5;241m==\u001b[39m \u001b[38;5;241m1\u001b[39m:\n",
      "File \u001b[0;32m/usr/lib/python3/dist-packages/gpiozero/input_devices.py:412\u001b[0m, in \u001b[0;36mButton.__init__\u001b[0;34m(self, pin, pull_up, active_state, bounce_time, hold_time, hold_repeat, pin_factory)\u001b[0m\n\u001b[1;32m    409\u001b[0m \u001b[38;5;28;01mdef\u001b[39;00m \u001b[38;5;21m__init__\u001b[39m(\u001b[38;5;28mself\u001b[39m, pin\u001b[38;5;241m=\u001b[39m\u001b[38;5;28;01mNone\u001b[39;00m, \u001b[38;5;241m*\u001b[39m, pull_up\u001b[38;5;241m=\u001b[39m\u001b[38;5;28;01mTrue\u001b[39;00m, active_state\u001b[38;5;241m=\u001b[39m\u001b[38;5;28;01mNone\u001b[39;00m,\n\u001b[1;32m    410\u001b[0m              bounce_time\u001b[38;5;241m=\u001b[39m\u001b[38;5;28;01mNone\u001b[39;00m, hold_time\u001b[38;5;241m=\u001b[39m\u001b[38;5;241m1\u001b[39m, hold_repeat\u001b[38;5;241m=\u001b[39m\u001b[38;5;28;01mFalse\u001b[39;00m,\n\u001b[1;32m    411\u001b[0m              pin_factory\u001b[38;5;241m=\u001b[39m\u001b[38;5;28;01mNone\u001b[39;00m):\n\u001b[0;32m--> 412\u001b[0m     \u001b[38;5;28;43msuper\u001b[39;49m\u001b[43m(\u001b[49m\u001b[43m)\u001b[49m\u001b[38;5;241;43m.\u001b[39;49m\u001b[38;5;21;43m__init__\u001b[39;49m\u001b[43m(\u001b[49m\n\u001b[1;32m    413\u001b[0m \u001b[43m        \u001b[49m\u001b[43mpin\u001b[49m\u001b[43m,\u001b[49m\u001b[43m \u001b[49m\u001b[43mpull_up\u001b[49m\u001b[38;5;241;43m=\u001b[39;49m\u001b[43mpull_up\u001b[49m\u001b[43m,\u001b[49m\u001b[43m \u001b[49m\u001b[43mactive_state\u001b[49m\u001b[38;5;241;43m=\u001b[39;49m\u001b[43mactive_state\u001b[49m\u001b[43m,\u001b[49m\n\u001b[1;32m    414\u001b[0m \u001b[43m        \u001b[49m\u001b[43mbounce_time\u001b[49m\u001b[38;5;241;43m=\u001b[39;49m\u001b[43mbounce_time\u001b[49m\u001b[43m,\u001b[49m\u001b[43m \u001b[49m\u001b[43mpin_factory\u001b[49m\u001b[38;5;241;43m=\u001b[39;49m\u001b[43mpin_factory\u001b[49m\u001b[43m)\u001b[49m\n\u001b[1;32m    415\u001b[0m     \u001b[38;5;28mself\u001b[39m\u001b[38;5;241m.\u001b[39mhold_time \u001b[38;5;241m=\u001b[39m hold_time\n\u001b[1;32m    416\u001b[0m     \u001b[38;5;28mself\u001b[39m\u001b[38;5;241m.\u001b[39mhold_repeat \u001b[38;5;241m=\u001b[39m hold_repeat\n",
      "File \u001b[0;32m/usr/lib/python3/dist-packages/gpiozero/mixins.py:417\u001b[0m, in \u001b[0;36mHoldMixin.__init__\u001b[0;34m(self, *args, **kwargs)\u001b[0m\n\u001b[1;32m    415\u001b[0m \u001b[38;5;28;01mdef\u001b[39;00m \u001b[38;5;21m__init__\u001b[39m(\u001b[38;5;28mself\u001b[39m, \u001b[38;5;241m*\u001b[39margs, \u001b[38;5;241m*\u001b[39m\u001b[38;5;241m*\u001b[39mkwargs):\n\u001b[1;32m    416\u001b[0m     \u001b[38;5;28mself\u001b[39m\u001b[38;5;241m.\u001b[39m_hold_thread \u001b[38;5;241m=\u001b[39m \u001b[38;5;28;01mNone\u001b[39;00m\n\u001b[0;32m--> 417\u001b[0m     \u001b[38;5;28;43msuper\u001b[39;49m\u001b[43m(\u001b[49m\u001b[43m)\u001b[49m\u001b[38;5;241;43m.\u001b[39;49m\u001b[38;5;21;43m__init__\u001b[39;49m\u001b[43m(\u001b[49m\u001b[38;5;241;43m*\u001b[39;49m\u001b[43margs\u001b[49m\u001b[43m,\u001b[49m\u001b[43m \u001b[49m\u001b[38;5;241;43m*\u001b[39;49m\u001b[38;5;241;43m*\u001b[39;49m\u001b[43mkwargs\u001b[49m\u001b[43m)\u001b[49m\n\u001b[1;32m    418\u001b[0m     \u001b[38;5;28mself\u001b[39m\u001b[38;5;241m.\u001b[39m_when_held \u001b[38;5;241m=\u001b[39m \u001b[38;5;28;01mNone\u001b[39;00m\n\u001b[1;32m    419\u001b[0m     \u001b[38;5;28mself\u001b[39m\u001b[38;5;241m.\u001b[39m_held_from \u001b[38;5;241m=\u001b[39m \u001b[38;5;28;01mNone\u001b[39;00m\n",
      "File \u001b[0;32m/usr/lib/python3/dist-packages/gpiozero/input_devices.py:162\u001b[0m, in \u001b[0;36mDigitalInputDevice.__init__\u001b[0;34m(self, pin, pull_up, active_state, bounce_time, pin_factory)\u001b[0m\n\u001b[1;32m    160\u001b[0m \u001b[38;5;28;01mdef\u001b[39;00m \u001b[38;5;21m__init__\u001b[39m(\u001b[38;5;28mself\u001b[39m, pin\u001b[38;5;241m=\u001b[39m\u001b[38;5;28;01mNone\u001b[39;00m, \u001b[38;5;241m*\u001b[39m, pull_up\u001b[38;5;241m=\u001b[39m\u001b[38;5;28;01mFalse\u001b[39;00m, active_state\u001b[38;5;241m=\u001b[39m\u001b[38;5;28;01mNone\u001b[39;00m,\n\u001b[1;32m    161\u001b[0m              bounce_time\u001b[38;5;241m=\u001b[39m\u001b[38;5;28;01mNone\u001b[39;00m, pin_factory\u001b[38;5;241m=\u001b[39m\u001b[38;5;28;01mNone\u001b[39;00m):\n\u001b[0;32m--> 162\u001b[0m     \u001b[38;5;28;43msuper\u001b[39;49m\u001b[43m(\u001b[49m\u001b[43m)\u001b[49m\u001b[38;5;241;43m.\u001b[39;49m\u001b[38;5;21;43m__init__\u001b[39;49m\u001b[43m(\u001b[49m\n\u001b[1;32m    163\u001b[0m \u001b[43m        \u001b[49m\u001b[43mpin\u001b[49m\u001b[43m,\u001b[49m\u001b[43m \u001b[49m\u001b[43mpull_up\u001b[49m\u001b[38;5;241;43m=\u001b[39;49m\u001b[43mpull_up\u001b[49m\u001b[43m,\u001b[49m\u001b[43m \u001b[49m\u001b[43mactive_state\u001b[49m\u001b[38;5;241;43m=\u001b[39;49m\u001b[43mactive_state\u001b[49m\u001b[43m,\u001b[49m\n\u001b[1;32m    164\u001b[0m \u001b[43m        \u001b[49m\u001b[43mpin_factory\u001b[49m\u001b[38;5;241;43m=\u001b[39;49m\u001b[43mpin_factory\u001b[49m\u001b[43m)\u001b[49m\n\u001b[1;32m    165\u001b[0m     \u001b[38;5;28;01mtry\u001b[39;00m:\n\u001b[1;32m    166\u001b[0m         \u001b[38;5;28mself\u001b[39m\u001b[38;5;241m.\u001b[39mpin\u001b[38;5;241m.\u001b[39mbounce \u001b[38;5;241m=\u001b[39m bounce_time\n",
      "File \u001b[0;32m/usr/lib/python3/dist-packages/gpiozero/mixins.py:243\u001b[0m, in \u001b[0;36mEventsMixin.__init__\u001b[0;34m(self, *args, **kwargs)\u001b[0m\n\u001b[1;32m    242\u001b[0m \u001b[38;5;28;01mdef\u001b[39;00m \u001b[38;5;21m__init__\u001b[39m(\u001b[38;5;28mself\u001b[39m, \u001b[38;5;241m*\u001b[39margs, \u001b[38;5;241m*\u001b[39m\u001b[38;5;241m*\u001b[39mkwargs):\n\u001b[0;32m--> 243\u001b[0m     \u001b[38;5;28;43msuper\u001b[39;49m\u001b[43m(\u001b[49m\u001b[43m)\u001b[49m\u001b[38;5;241;43m.\u001b[39;49m\u001b[38;5;21;43m__init__\u001b[39;49m\u001b[43m(\u001b[49m\u001b[38;5;241;43m*\u001b[39;49m\u001b[43margs\u001b[49m\u001b[43m,\u001b[49m\u001b[43m \u001b[49m\u001b[38;5;241;43m*\u001b[39;49m\u001b[38;5;241;43m*\u001b[39;49m\u001b[43mkwargs\u001b[49m\u001b[43m)\u001b[49m\n\u001b[1;32m    244\u001b[0m     \u001b[38;5;28mself\u001b[39m\u001b[38;5;241m.\u001b[39m_active_event \u001b[38;5;241m=\u001b[39m Event()\n\u001b[1;32m    245\u001b[0m     \u001b[38;5;28mself\u001b[39m\u001b[38;5;241m.\u001b[39m_inactive_event \u001b[38;5;241m=\u001b[39m Event()\n",
      "File \u001b[0;32m/usr/lib/python3/dist-packages/gpiozero/input_devices.py:79\u001b[0m, in \u001b[0;36mInputDevice.__init__\u001b[0;34m(self, pin, pull_up, active_state, pin_factory)\u001b[0m\n\u001b[1;32m     77\u001b[0m \u001b[38;5;28;01mdef\u001b[39;00m \u001b[38;5;21m__init__\u001b[39m(\u001b[38;5;28mself\u001b[39m, pin\u001b[38;5;241m=\u001b[39m\u001b[38;5;28;01mNone\u001b[39;00m, \u001b[38;5;241m*\u001b[39m, pull_up\u001b[38;5;241m=\u001b[39m\u001b[38;5;28;01mFalse\u001b[39;00m, active_state\u001b[38;5;241m=\u001b[39m\u001b[38;5;28;01mNone\u001b[39;00m,\n\u001b[1;32m     78\u001b[0m              pin_factory\u001b[38;5;241m=\u001b[39m\u001b[38;5;28;01mNone\u001b[39;00m):\n\u001b[0;32m---> 79\u001b[0m     \u001b[38;5;28;43msuper\u001b[39;49m\u001b[43m(\u001b[49m\u001b[43m)\u001b[49m\u001b[38;5;241;43m.\u001b[39;49m\u001b[38;5;21;43m__init__\u001b[39;49m\u001b[43m(\u001b[49m\u001b[43mpin\u001b[49m\u001b[43m,\u001b[49m\u001b[43m \u001b[49m\u001b[43mpin_factory\u001b[49m\u001b[38;5;241;43m=\u001b[39;49m\u001b[43mpin_factory\u001b[49m\u001b[43m)\u001b[49m\n\u001b[1;32m     80\u001b[0m     \u001b[38;5;28;01mtry\u001b[39;00m:\n\u001b[1;32m     81\u001b[0m         \u001b[38;5;28mself\u001b[39m\u001b[38;5;241m.\u001b[39mpin\u001b[38;5;241m.\u001b[39mfunction \u001b[38;5;241m=\u001b[39m \u001b[38;5;124m'\u001b[39m\u001b[38;5;124minput\u001b[39m\u001b[38;5;124m'\u001b[39m\n",
      "File \u001b[0;32m/usr/lib/python3/dist-packages/gpiozero/devices.py:552\u001b[0m, in \u001b[0;36mGPIODevice.__init__\u001b[0;34m(self, pin, pin_factory)\u001b[0m\n\u001b[1;32m    550\u001b[0m     \u001b[38;5;28;01mraise\u001b[39;00m GPIOPinMissing(\u001b[38;5;124m'\u001b[39m\u001b[38;5;124mNo pin given\u001b[39m\u001b[38;5;124m'\u001b[39m)\n\u001b[1;32m    551\u001b[0m \u001b[38;5;66;03m# Check you can reserve *before* constructing the pin\u001b[39;00m\n\u001b[0;32m--> 552\u001b[0m \u001b[38;5;28;43mself\u001b[39;49m\u001b[38;5;241;43m.\u001b[39;49m\u001b[43mpin_factory\u001b[49m\u001b[38;5;241;43m.\u001b[39;49m\u001b[43mreserve_pins\u001b[49m\u001b[43m(\u001b[49m\u001b[38;5;28;43mself\u001b[39;49m\u001b[43m,\u001b[49m\u001b[43m \u001b[49m\u001b[43mpin\u001b[49m\u001b[43m)\u001b[49m\n\u001b[1;32m    553\u001b[0m pin \u001b[38;5;241m=\u001b[39m \u001b[38;5;28mself\u001b[39m\u001b[38;5;241m.\u001b[39mpin_factory\u001b[38;5;241m.\u001b[39mpin(pin)\n\u001b[1;32m    554\u001b[0m \u001b[38;5;28mself\u001b[39m\u001b[38;5;241m.\u001b[39m_pin \u001b[38;5;241m=\u001b[39m pin\n",
      "File \u001b[0;32m/usr/lib/python3/dist-packages/gpiozero/pins/__init__.py:88\u001b[0m, in \u001b[0;36mFactory.reserve_pins\u001b[0;34m(self, requester, *names)\u001b[0m\n\u001b[1;32m     86\u001b[0m     reserver \u001b[38;5;241m=\u001b[39m reserver_ref()\n\u001b[1;32m     87\u001b[0m     \u001b[38;5;28;01mif\u001b[39;00m reserver \u001b[38;5;129;01mis\u001b[39;00m \u001b[38;5;129;01mnot\u001b[39;00m \u001b[38;5;28;01mNone\u001b[39;00m \u001b[38;5;129;01mand\u001b[39;00m requester\u001b[38;5;241m.\u001b[39m_conflicts_with(reserver):\n\u001b[0;32m---> 88\u001b[0m         \u001b[38;5;28;01mraise\u001b[39;00m GPIOPinInUse(\n\u001b[1;32m     89\u001b[0m             \u001b[38;5;124mf\u001b[39m\u001b[38;5;124m'\u001b[39m\u001b[38;5;124mpin \u001b[39m\u001b[38;5;132;01m{\u001b[39;00mpin\u001b[38;5;241m.\u001b[39mname\u001b[38;5;132;01m}\u001b[39;00m\u001b[38;5;124m is already in use by \u001b[39m\u001b[38;5;132;01m{\u001b[39;00mreserver\u001b[38;5;132;01m!r}\u001b[39;00m\u001b[38;5;124m'\u001b[39m)\n\u001b[1;32m     90\u001b[0m \u001b[38;5;28mself\u001b[39m\u001b[38;5;241m.\u001b[39m_reservations[pin]\u001b[38;5;241m.\u001b[39mappend(ref(requester))\n",
      "\u001b[0;31mGPIOPinInUse\u001b[0m: pin GPIO5 is already in use by <gpiozero.Button object on pin GPIO5, pull_up=True, is_active=False>"
     ]
    }
   ],
   "source": [
    "# 버튼 설정 (GPIO 핀 번호에 맞게 수정)\n",
    "button1 = Button(5)  # GPIO 2번 핀\n",
    "button2 = Button(6)  # GPIO 3번 핀\n",
    "\n",
    "# 상태 변수\n",
    "show_start_screen = True  # 시작 화면 상태\n",
    "print(\"버튼 설정 완료.\")\n"
   ]
  }
 ],
 "metadata": {
  "kernelspec": {
   "display_name": "Python 3",
   "language": "python",
   "name": "python3"
  },
  "language_info": {
   "codemirror_mode": {
    "name": "ipython",
    "version": 3
   },
   "file_extension": ".py",
   "mimetype": "text/x-python",
   "name": "python",
   "nbconvert_exporter": "python",
   "pygments_lexer": "ipython3",
   "version": "3.11.2"
  }
 },
 "nbformat": 4,
 "nbformat_minor": 2
}
