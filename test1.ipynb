{
 "cells": [
  {
   "cell_type": "markdown",
   "metadata": {},
   "source": [
    "필요한 라이브러리 및 초기화"
   ]
  },
  {
   "cell_type": "code",
   "execution_count": 25,
   "metadata": {},
   "outputs": [],
   "source": [
    "import board\n",
    "import digitalio\n",
    "import adafruit_rgb_display.st7789 as st7789  # ST7789 드라이버\n",
    "from digitalio import DigitalInOut, Direction\n",
    "from PIL import Image, ImageOps, ImageDraw, ImageFont\n",
    "from gpiozero import Button  # 버튼 입력 처리를 위한 GPIO Zero\n",
    "\n",
    "# SPI 핀 설정\n",
    "cs_pin = digitalio.DigitalInOut(board.CE0)  # Chip Select\n",
    "dc_pin = digitalio.DigitalInOut(board.D25)  # Data/Command\n",
    "reset_pin = digitalio.DigitalInOut(board.D24)  # Reset\n",
    "spi = board.SPI()  # Hardware SPI\n",
    "\n",
    "# 디스플레이 초기화\n",
    "disp = st7789.ST7789(\n",
    "    spi,\n",
    "    cs=cs_pin,\n",
    "    dc=dc_pin,\n",
    "    rst=reset_pin,\n",
    "    width=240,\n",
    "    height=240,\n",
    "    baudrate=24000000,\n",
    "    x_offset=0,\n",
    "    y_offset=80,\n",
    "    rotation=180  # 디스플레이 방향 설정\n",
    ")\n",
    "\n",
    "# 디스플레이 크기 설정\n",
    "width = disp.width\n",
    "height = disp.height\n"
   ]
  },
  {
   "cell_type": "markdown",
   "metadata": {},
   "source": [
    "배경 생성 및 이미지 출력"
   ]
  },
  {
   "cell_type": "code",
   "execution_count": 26,
   "metadata": {},
   "outputs": [
    {
     "name": "stdout",
     "output_type": "stream",
     "text": [
      "시작 화면 출력 완료.\n"
     ]
    }
   ],
   "source": [
    "# 이미지 경로 설정\n",
    "start_screen_path = \"assets/AstroEvasion.png\"  # 시작 화면 이미지 경로\n",
    "background_path = \"assets/Background.png\"  # 게임 배경 화면 이미지 경로\n",
    "\n",
    "# 시작 화면 로드 및 크기 조정\n",
    "start_image = Image.open(start_screen_path).convert(\"RGB\")\n",
    "# start_image = ImageOps.flip(start_image)  # 필요 시 상하 반전\n",
    "start_image = start_image.resize((width, height))\n",
    "\n",
    "# 게임 화면 로드 및 크기 조정\n",
    "background_image = Image.open(background_path).convert(\"RGB\")\n",
    "background_image = background_image.resize((width, height))\n",
    "\n",
    "# 디스플레이에 이미지 출력 함수\n",
    "def display_image(image):\n",
    "    disp.image(image)\n",
    "\n",
    "# 시작 화면 출력\n",
    "display_image(start_image)\n",
    "print(\"시작 화면 출력 완료.\")\n"
   ]
  },
  {
   "cell_type": "markdown",
   "metadata": {},
   "source": [
    "버튼 설정 및 상태 관리"
   ]
  },
  {
   "cell_type": "code",
   "execution_count": 27,
   "metadata": {},
   "outputs": [],
   "source": [
    "class Joystick:\n",
    "    def __init__(self):\n",
    "        self.cs_pin = DigitalInOut(board.CE0)\n",
    "        self.dc_pin = DigitalInOut(board.D25)\n",
    "        self.reset_pin = DigitalInOut(board.D24)\n",
    "        self.BAUDRATE = 24000000\n",
    "\n",
    "        self.spi = board.SPI()\n",
    "        self.disp = st7789.ST7789(\n",
    "                    self.spi,\n",
    "                    height=240,\n",
    "                    y_offset=80,\n",
    "                    rotation=180,\n",
    "                    cs=self.cs_pin,\n",
    "                    dc=self.dc_pin,\n",
    "                    rst=self.reset_pin,\n",
    "                    baudrate=self.BAUDRATE,\n",
    "                    )\n",
    "\n",
    "        # Input pins:\n",
    "        self.button_A = DigitalInOut(board.D5)\n",
    "        self.button_A.direction = Direction.INPUT\n",
    "\n",
    "        self.button_B = DigitalInOut(board.D6)\n",
    "        self.button_B.direction = Direction.INPUT\n",
    "\n",
    "        self.button_L = DigitalInOut(board.D27)\n",
    "        self.button_L.direction = Direction.INPUT\n",
    "\n",
    "        self.button_R = DigitalInOut(board.D23)\n",
    "        self.button_R.direction = Direction.INPUT\n",
    "\n",
    "        self.button_U = DigitalInOut(board.D17)\n",
    "        self.button_U.direction = Direction.INPUT\n",
    "\n",
    "        self.button_D = DigitalInOut(board.D22)\n",
    "        self.button_D.direction = Direction.INPUT\n",
    "\n",
    "        self.button_C = DigitalInOut(board.D4)\n",
    "        self.button_C.direction = Direction.INPUT\n",
    "\n",
    "        # Turn on the Backlight\n",
    "        self.backlight = DigitalInOut(board.D26)\n",
    "        self.backlight.switch_to_output()\n",
    "        self.backlight.value = True\n",
    "        # Create blank image for drawing.\n",
    "        # Make sure to create image with mode 'RGB' for color.\n",
    "        self.width = self.disp.width\n",
    "        self.height = self.disp.height"
   ]
  },
  {
   "cell_type": "markdown",
   "metadata": {},
   "source": [
    "게임화면"
   ]
  },
  {
   "cell_type": "code",
   "execution_count": null,
   "metadata": {},
   "outputs": [],
   "source": [
    "import time\n",
    "\n",
    "# 버튼 입력 감지 및 화면 전환\n",
    "while True:\n",
    "    # 버튼 A 또는 B가 눌렸는지 확인\n",
    "    if not button_A.value or not button_B.value:  # 버튼이 눌리면 값이 False\n",
    "        print(\"버튼이 눌렸습니다! Background 화면으로 전환합니다.\")\n",
    "        display_image(background_image)  # Background 화면 출력\n",
    "        break  # 루프 종료\n",
    "    \n",
    "    # CPU 사용량 절약을 위해 짧은 대기\n",
    "    time.sleep(0.1)\n"
   ]
  }
 ],
 "metadata": {
  "kernelspec": {
   "display_name": "Python 3",
   "language": "python",
   "name": "python3"
  },
  "language_info": {
   "codemirror_mode": {
    "name": "ipython",
    "version": 3
   },
   "file_extension": ".py",
   "mimetype": "text/x-python",
   "name": "python",
   "nbconvert_exporter": "python",
   "pygments_lexer": "ipython3",
   "version": "3.11.2"
  }
 },
 "nbformat": 4,
 "nbformat_minor": 2
}
