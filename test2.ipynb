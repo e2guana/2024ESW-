{
 "cells": [
  {
   "cell_type": "markdown",
   "metadata": {},
   "source": [
    "화면실행"
   ]
  },
  {
   "cell_type": "code",
   "execution_count": 3,
   "metadata": {},
   "outputs": [
    {
     "name": "stdout",
     "output_type": "stream",
     "text": [
      "시작 화면 출력 완료.\n"
     ]
    }
   ],
   "source": [
    "import os\n",
    "import board\n",
    "import digitalio\n",
    "import adafruit_rgb_display.st7789 as st7789  # ST7789 드라이버\n",
    "from PIL import Image, ImageOps\n",
    "\n",
    "# SPI 핀 설정\n",
    "cs_pin = digitalio.DigitalInOut(board.CE0)  # Chip Select\n",
    "dc_pin = digitalio.DigitalInOut(board.D25)  # Data/Command\n",
    "reset_pin = digitalio.DigitalInOut(board.D24)  # Reset\n",
    "spi = board.SPI()  # Hardware SPI\n",
    "\n",
    "# 디스플레이 초기화\n",
    "disp = st7789.ST7789(\n",
    "    spi,\n",
    "    cs=cs_pin,\n",
    "    dc=dc_pin,\n",
    "    rst=reset_pin,\n",
    "    width=240,\n",
    "    height=240,\n",
    "    baudrate=24000000,\n",
    "    x_offset=0,\n",
    "    y_offset=80,\n",
    "    rotation=180  # 디스플레이 방향 설정\n",
    ")\n",
    "\n",
    "# 디스플레이 크기 설정\n",
    "width = disp.width\n",
    "height = disp.height\n",
    "\n",
    "# 이미지 파일 경로 설정\n",
    "start_screen_path = \"assets/AstroEvasion.png\"  # 시작 화면 이미지 경로\n",
    "background_path = \"assets/Background.png\"  # 게임 배경 화면 이미지 경로\n",
    "\n",
    "# 이미지 로드 및 크기 조정\n",
    "if os.path.exists(start_screen_path) and os.path.exists(background_path):\n",
    "    start_image = Image.open(start_screen_path).convert(\"RGB\")\n",
    "    start_image = start_image.resize((width, height))\n",
    "\n",
    "    background_image = Image.open(background_path).convert(\"RGB\")\n",
    "    background_image = background_image.resize((width, height))\n",
    "\n",
    "    # 디스플레이에 이미지 출력 함수\n",
    "    def display_image(image):\n",
    "        disp.image(image)\n",
    "\n",
    "    # 시작 화면 출력\n",
    "    display_image(start_image)\n",
    "    print(\"시작 화면 출력 완료.\")\n",
    "else:\n",
    "    print(\"이미지 경로를 확인하세요. 파일이 존재하지 않습니다.\")\n"
   ]
  }
 ],
 "metadata": {
  "kernelspec": {
   "display_name": "Python 3",
   "language": "python",
   "name": "python3"
  },
  "language_info": {
   "codemirror_mode": {
    "name": "ipython",
    "version": 3
   },
   "file_extension": ".py",
   "mimetype": "text/x-python",
   "name": "python",
   "nbconvert_exporter": "python",
   "pygments_lexer": "ipython3",
   "version": "3.11.2"
  }
 },
 "nbformat": 4,
 "nbformat_minor": 2
}
